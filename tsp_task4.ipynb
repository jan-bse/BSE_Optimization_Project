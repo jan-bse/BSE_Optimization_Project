{
 "cells": [
  {
   "cell_type": "markdown",
   "metadata": {},
   "source": [
    "DMO - 2023 - Project 3\n",
    "\n",
    "Clarice Mottet, Amber Walker, Mox Ballo, Robina Cheng, Rafael Gallegos\n",
    "\n",
    "Task 4: Consider the procedure devised in Task 3 and fix a given branch and bound iteration and the corresponding callback. Can the procedure result in the same cut being generated twice within the same callback call? Once the cut is addressed in a callback call, the cut should not appear in following callback calls. Within the same callback call, before the cut is addressed, can the same cut be generated more than once?\n",
    "\n",
    "Response: Within the callback call in Task 3, we use a for loop iterating over nodes from 1 to n to check for subtours. When a subtour is found through the max flow/min cut problem based on the for loop iteration, we apply the SEC constraint and add the subtour to an \"added\" variable that tracks the nodes present in the subtour we've eliminated. Within the same callback we move to the next iteration of the for loop and if the node is present in a subtour we've already address, stored in the \"added\" variable, we move to the next iteration of the for loop, or to the next node. Therefore, with the use of the \"added\" variable that tracks nodes in subtours that have been addressed, we cannot yield the same cut within the same callback call.\n",
    "\n",
    "If we remove the \"added\" variable, we can see that we can generate the same cut within the same callback call and below is a simple example showing as such."
   ]
  },
  {
   "cell_type": "code",
   "execution_count": 44,
   "metadata": {},
   "outputs": [],
   "source": [
    "from gurobipy import Model, GRB, GurobiError\n",
    "import matplotlib.pyplot as plt\n",
    "import numpy as np\n",
    "import os\n",
    "import random\n",
    "import math\n",
    "from graph_tool.generation import complete_graph\n",
    "from graph_tool.flow import boykov_kolmogorov_max_flow, min_st_cut\n",
    "\n",
    "random.seed(120)"
   ]
  },
  {
   "cell_type": "code",
   "execution_count": 45,
   "metadata": {},
   "outputs": [],
   "source": [
    "#Create a simple example simple x and y coordinates\n",
    "\n",
    "xs = [1, 1, 4, 4, 6, 6]\n",
    "ys = [1, 2, 1, 2, 1, 2]\n",
    "p = [0, 1, 1, 1, 1, 1]\n",
    "n = len(xs)\n",
    "V = range(n)\n",
    "T = 10"
   ]
  },
  {
   "cell_type": "code",
   "execution_count": 46,
   "metadata": {},
   "outputs": [
    {
     "name": "stdout",
     "output_type": "stream",
     "text": [
      "{(0, 1): 1.0, (0, 2): 3.0, (0, 3): 3.1622776601683795, (0, 4): 5.0, (0, 5): 5.0990195135927845, (1, 0): 1.0, (1, 2): 3.1622776601683795, (1, 3): 3.0, (1, 4): 5.0990195135927845, (1, 5): 5.0, (2, 0): 3.0, (2, 1): 3.1622776601683795, (2, 3): 1.0, (2, 4): 2.0, (2, 5): 2.23606797749979, (3, 0): 3.1622776601683795, (3, 1): 3.0, (3, 2): 1.0, (3, 4): 2.23606797749979, (3, 5): 2.0, (4, 0): 5.0, (4, 1): 5.0990195135927845, (4, 2): 2.0, (4, 3): 2.23606797749979, (4, 5): 1.0, (5, 0): 5.0990195135927845, (5, 1): 5.0, (5, 2): 2.23606797749979, (5, 3): 2.0, (5, 4): 1.0}\n"
     ]
    }
   ],
   "source": [
    "# travel times (Euclidean distance divided by speed)\n",
    "t = {\n",
    "    (i, j): math.sqrt((xs[i] - xs[j]) ** 2 + (ys[i] - ys[j]) ** 2)\n",
    "    for i in V for j in V if i != j\n",
    "}\n",
    "\n",
    "print(t)"
   ]
  },
  {
   "cell_type": "code",
   "execution_count": 47,
   "metadata": {},
   "outputs": [
    {
     "name": "stdout",
     "output_type": "stream",
     "text": [
      "Set parameter LazyConstraints to value 1\n"
     ]
    },
    {
     "data": {
      "text/plain": [
       "<gurobi.Constr *Awaiting Model Update*>"
      ]
     },
     "execution_count": 47,
     "metadata": {},
     "output_type": "execute_result"
    }
   ],
   "source": [
    "A = list(t.keys())\n",
    "\n",
    "m = Model()\n",
    "\n",
    "m.Params.lazyConstraints = 1\n",
    "\n",
    "# vars (0 or 1)\n",
    "y = m.addVars(n, vtype=GRB.BINARY, name=\"y\")\n",
    "x = m.addVars(A, vtype=GRB.BINARY, name=\"x\")\n",
    "\n",
    "# objective function\n",
    "m.setObjective(sum(p[i] * y[i] for i in range(1, n)), GRB.MAXIMIZE)\n",
    "\n",
    "#constraint 16\n",
    "m.addConstr(y[0] == 1)  # Repairman starts at the shop\n",
    "\n",
    "#constraints 17&18\n",
    "for i in range(n):\n",
    "    m.addConstr(sum(x[i, j] for j in range(n) if j != i) == y[i])\n",
    "    m.addConstr(sum(x[j, i] for j in range(n) if j != i) == y[i])\n",
    "\n",
    "# time constraint 19\n",
    "m.addConstr(sum(t[i, j] * x[i, j] for i, j in A) <= T)\n"
   ]
  },
  {
   "cell_type": "code",
   "execution_count": 48,
   "metadata": {},
   "outputs": [
    {
     "name": "stdout",
     "output_type": "stream",
     "text": [
      "<Graph object, directed, with 6 vertices and 30 edges, 1 internal edge property, at 0x7fea3ddadae0>\n"
     ]
    }
   ],
   "source": [
    "G = complete_graph(N=n, self_loops=False, directed=True)\n",
    "cap = G.new_edge_property(value_type='double')\n",
    "G.edge_properties['cap'] = cap\n",
    "\n",
    "print(G)"
   ]
  },
  {
   "cell_type": "code",
   "execution_count": 49,
   "metadata": {},
   "outputs": [],
   "source": [
    "def set_capacity():\n",
    "    for e in G.edges():\n",
    "        i, j = e.source(), e.target()\n",
    "\n",
    "        try:\n",
    "            xval = m.cbGetSolution(x[i,j])\n",
    "        except GurobiError:\n",
    "            xval = m.cbGetNodeRel(x[i,j])\n",
    "\n",
    "        cap[e] = xval        "
   ]
  },
  {
   "cell_type": "code",
   "execution_count": 50,
   "metadata": {},
   "outputs": [],
   "source": [
    "def add_sec_for(subtour):\n",
    "    if 0 not in set(subtour):\n",
    "        print('Added a violated SEC', subtour)\n",
    "        for k in set(subtour):\n",
    "            m.cbLazy(sum(x[i,j] for i,j in A if i in subtour and j not in subtour) >= y[k])\n",
    "        \n",
    "# adds a subtour elimination constraint to the model when a subtour is detected"
   ]
  },
  {
   "cell_type": "code",
   "execution_count": 51,
   "metadata": {},
   "outputs": [],
   "source": [
    "def callback(what, where):\n",
    "    if where not in (GRB.Callback.MIPSOL, GRB.Callback.MIPNODE):\n",
    "        return\n",
    "    \n",
    "    if where == GRB.Callback.MIPNODE and m.cbGet(GRB.Callback.MIPNODE_STATUS) != GRB.OPTIMAL:\n",
    "        return\n",
    "    \n",
    "    print(\"+++++++++++in callback\")\n",
    "    set_capacity()\n",
    "\n",
    "    source = G.vertex(0)\n",
    "\n",
    "    #instead of representing nodes within the set added, we're going to just view the same cuts being generated\n",
    "    #added is not a dictionary where the keys are the subtour represented as the string and it stores a tuple of the max flow and residual\n",
    "    added = {}\n",
    "\n",
    "    for i in range(1, n):\n",
    "        print(\"value of i \", i)\n",
    "        if str(i) in (added.keys()):\n",
    "            continue\n",
    "\n",
    "        sink = G.vertex(i)\n",
    "        res = boykov_kolmogorov_max_flow(g=G, source=source, target=sink, capacity=cap)\n",
    "\n",
    "        # Create an edge property map quickly by\n",
    "        # copying an existing one.\n",
    "        flow = res.copy()\n",
    "\n",
    "        # The value held by the property map is in\n",
    "        # the .a member. Because capacity == flow + residuals\n",
    "        # we must write:\n",
    "        flow.a = cap.a - res.a\n",
    "\n",
    "        maxflow = sum(flow[a] for a in sink.in_edges())\n",
    "        total_res = sum(res[a] for a in sink.in_edges())\n",
    "\n",
    "        #only say there's a subtour connected to node i if node i is actually connected to other nodes\n",
    "        try:\n",
    "            yval = m.cbGetSolution(y[i])\n",
    "        except GurobiError:\n",
    "            yval = m.cbGetNodeRel(y[i])\n",
    "\n",
    "        if (maxflow < (1 - 1e-6)) and yval > .0001:\n",
    "            print(f\"Violated SEC. Flow = {maxflow:.3f} < 1\")\n",
    "            cut = min_st_cut(g=G, source=source, capacity=cap, residual=res)\n",
    "\n",
    "            try:\n",
    "                assert cut[source] == True\n",
    "                assert cut[sink] == False\n",
    "\n",
    "                subtour_ = [j for j in V if cut[G.vertex(j)] == False]\n",
    "\n",
    "                # print(\"base subtour \",subtour_)\n",
    "                if (len(subtour_) > 1):\n",
    "                    # # testing for the case where the subtour is length 2\n",
    "                    # for e in G.edges():\n",
    "                    #     i_, j_ = e.source(), e.target()\n",
    "                    #     if i_ == subtour[0] and j_ == subtour[1]:\n",
    "                    #         print(\"edge value i \",i_, \" j \", j_, cap[e])\n",
    "                    #     elif i_ == subtour[1] and j_ == subtour[0]:\n",
    "                    #         print(\"edge value i \",i_, \" j \", j_, cap[e])\n",
    "\n",
    "                    # #ended up with errors so did error checking\n",
    "                    # for node in subtour_:\n",
    "                    #     try:\n",
    "                    #         yvalnode = m.cbGetSolution(y[node])\n",
    "                    #     except GurobiError:\n",
    "                    #         yvalnode = m.cbGetNodeRel(y[node])\n",
    "                    #     print(\"node \", node, \"yvalue \", yvalnode)\n",
    "\n",
    "                    iter_ = 0\n",
    "                    if yval > 0:\n",
    "                        subtour = []\n",
    "                        node = i\n",
    "                        subtour.append(node)\n",
    "                        stop_ = 0\n",
    "                        while stop_ == 0:\n",
    "                            for e in G.edges():\n",
    "                                iter_+= 1\n",
    "                                if cap[e] > 0.001:\n",
    "                                    i_, j_ = int(e.source()), int(e.target())\n",
    "                                    if node == i_:\n",
    "                                        if j_ != i:\n",
    "                                            subtour.append(j_)\n",
    "                                        node = j_\n",
    "                                    if node == i:\n",
    "                                            stop_ = 1\n",
    "                            # #this was an error stop\n",
    "                            # if iter_ > 600:\n",
    "                            #     print(\"hard stop for loop\")\n",
    "                            #     stop_ = 1\n",
    "\n",
    "                #error catch\n",
    "                if len(subtour_) != len(subtour):\n",
    "                    subtour = subtour_\n",
    "\n",
    "                assert len(subtour) < n\n",
    "\n",
    "                add_sec_for(subtour)\n",
    "\n",
    "                added[str(subtour)] = (maxflow, total_res)\n",
    "\n",
    "            except AssertionError:\n",
    "                print(\"sink issue at \", i)\n",
    "\n",
    "    print(added)\n",
    "\n"
   ]
  },
  {
   "cell_type": "code",
   "execution_count": 52,
   "metadata": {
    "scrolled": true
   },
   "outputs": [
    {
     "name": "stdout",
     "output_type": "stream",
     "text": [
      "Gurobi Optimizer version 11.0.0 build v11.0.0rc2 (linux64 - \"Ubuntu 22.04.3 LTS\")\n",
      "\n",
      "CPU model: Intel(R) Core(TM) i7-8565U CPU @ 1.80GHz, instruction set [SSE2|AVX|AVX2]\n",
      "Thread count: 4 physical cores, 8 logical processors, using up to 8 threads\n",
      "\n",
      "Academic license 2454688 - for non-commercial use only - registered to cl___@bse.eu\n",
      "Optimize a model with 14 rows, 36 columns and 103 nonzeros\n",
      "Model fingerprint: 0xd5986f57\n",
      "Variable types: 0 continuous, 36 integer (36 binary)\n",
      "Coefficient statistics:\n",
      "  Matrix range     [1e+00, 5e+00]\n",
      "  Objective range  [1e+00, 1e+00]\n",
      "  Bounds range     [1e+00, 1e+00]\n",
      "  RHS range        [1e+00, 1e+01]\n",
      "+++++++++++in callback\n",
      "value of i  1\n",
      "value of i  2\n",
      "value of i  3\n",
      "value of i  4\n",
      "value of i  5\n",
      "{}\n",
      "Found heuristic solution: objective 2.0000000\n",
      "Presolve removed 1 rows and 1 columns\n",
      "Presolve time: 0.01s\n",
      "Presolved: 13 rows, 35 columns, 98 nonzeros\n",
      "Variable types: 0 continuous, 35 integer (35 binary)\n",
      "\n",
      "Root relaxation: objective 5.000000e+00, 13 iterations, 0.00 seconds (0.00 work units)\n",
      "+++++++++++in callback\n",
      "value of i  1\n",
      "value of i  2\n",
      "Violated SEC. Flow = 0.000 < 1\n",
      "Added a violated SEC [2, 3, 4, 5]\n",
      "value of i  3\n",
      "Violated SEC. Flow = 0.000 < 1\n",
      "Added a violated SEC [2, 3, 4, 5]\n",
      "value of i  4\n",
      "Violated SEC. Flow = 0.000 < 1\n",
      "Added a violated SEC [2, 3, 4, 5]\n",
      "value of i  5\n",
      "Violated SEC. Flow = 0.000 < 1\n",
      "Added a violated SEC [2, 3, 4, 5]\n",
      "{'[2, 3, 4, 5]': (0.0, 1.0)}\n",
      "\n",
      "    Nodes    |    Current Node    |     Objective Bounds      |     Work\n",
      " Expl Unexpl |  Obj  Depth IntInf | Incumbent    BestBd   Gap | It/Node Time\n",
      "\n",
      "     0     0    5.00000    0    -    2.00000    5.00000   150%     -    0s\n",
      "+++++++++++in callback\n",
      "value of i  1\n",
      "value of i  2\n",
      "value of i  3\n",
      "value of i  4\n",
      "Violated SEC. Flow = 0.000 < 1\n",
      "Added a violated SEC [4, 5]\n",
      "value of i  5\n",
      "Violated SEC. Flow = 0.000 < 1\n",
      "Added a violated SEC [5, 4]\n",
      "{'[4, 5]': (0.0, 1.0), '[5, 4]': (0.0, 1.0)}\n",
      "     0     0    5.00000    0    -    2.00000    5.00000   150%     -    0s\n",
      "     0     0    4.20000    0   10    2.00000    4.20000   110%     -    0s\n",
      "+++++++++++in callback\n",
      "value of i  1\n",
      "value of i  2\n",
      "value of i  3\n",
      "value of i  4\n",
      "value of i  5\n",
      "{}\n",
      "H    0     0                       3.0000000    4.20000  40.0%     -    0s\n",
      "+++++++++++in callback\n",
      "value of i  1\n",
      "value of i  2\n",
      "Violated SEC. Flow = 0.800 < 1\n",
      "Added a violated SEC [2, 4, 5, 3]\n",
      "value of i  3\n",
      "Violated SEC. Flow = 0.800 < 1\n",
      "Added a violated SEC [2, 3, 4, 5]\n",
      "value of i  4\n",
      "Violated SEC. Flow = 0.800 < 1\n",
      "Added a violated SEC [2, 3, 4, 5]\n",
      "value of i  5\n",
      "Violated SEC. Flow = 0.800 < 1\n",
      "Added a violated SEC [2, 3, 4, 5]\n",
      "{'[2, 4, 5, 3]': (0.8, 0.0), '[2, 3, 4, 5]': (0.8, 0.0)}\n",
      "     0     0     cutoff    0         3.00000    3.00000  0.00%     -    0s\n",
      "\n",
      "Cutting planes:\n",
      "  Gomory: 6\n",
      "  Cover: 1\n",
      "  MIR: 1\n",
      "  StrongCG: 1\n",
      "  GUB cover: 1\n",
      "  Mod-K: 1\n",
      "  RLT: 1\n",
      "  Lazy constraints: 16\n",
      "\n",
      "Explored 1 nodes (32 simplex iterations) in 0.28 seconds (0.00 work units)\n",
      "Thread count was 8 (of 8 available processors)\n",
      "\n",
      "Solution count 2: 3 2 \n",
      "\n",
      "Optimal solution found (tolerance 1.00e-04)\n",
      "Best objective 3.000000000000e+00, best bound 3.000000000000e+00, gap 0.0000%\n",
      "\n",
      "User-callback calls 219, time in user-callback 0.14 sec\n"
     ]
    }
   ],
   "source": [
    "m.optimize(callback)"
   ]
  },
  {
   "cell_type": "markdown",
   "metadata": {},
   "source": [
    "Based on the above print out, we can see that it is possible to get the same cut applied within the same callback.\n",
    "\n",
    "To address this, we'd do what we did in Task 3 and keep the \"added\" variable as a set of nodes contained in the subtour we're checking and not to repeat a cut if a node is contained within that list."
   ]
  },
  {
   "cell_type": "code",
   "execution_count": 53,
   "metadata": {},
   "outputs": [
    {
     "name": "stdout",
     "output_type": "stream",
     "text": [
      "[0, 2, 3, 1]\n",
      "time constraint  10\n",
      "total_time  8.0\n",
      "total_profit  3\n"
     ]
    },
    {
     "data": {
      "image/png": "[encoded data removed]",
      "text/plain": [
       "<Figure size 600x600 with 1 Axes>"
      ]
     },
     "metadata": {},
     "output_type": "display_data"
    }
   ],
   "source": [
    "if m.Status == GRB.OPTIMAL or m.Status == GRB.TIME_LIMIT:\n",
    "    stop_ = 0\n",
    "    tour = []\n",
    "    tour.append(0)\n",
    "    node = 0\n",
    "    while stop_ == 0:\n",
    "        for v in m.getVars():\n",
    "            if v.X > 0:\n",
    "                var_name = v.VarName\n",
    "                if var_name[0] == 'x':\n",
    "                    indices_ = var_name[2:-1]\n",
    "                    i, j = map(int, indices_.split(','))\n",
    "                    if i == node:\n",
    "                        if j != 0:\n",
    "                            tour.append(j)\n",
    "                        node = j\n",
    "                    if node == 0:\n",
    "                        stop_ = 1\n",
    "\n",
    "print(tour)\n",
    "\n",
    "fig, ax = plt.subplots(figsize=(6,6))\n",
    "ax.scatter(xs, ys)\n",
    "tour2 = tour[1:] + [0]\n",
    "\n",
    "total_time = 0\n",
    "total_profit = 0\n",
    "for i, j in zip(tour, tour2):\n",
    "    ax.plot((xs[i], xs[j]), (ys[i], ys[j]), color='red')\n",
    "    total_time += t[i, j]\n",
    "    total_profit += p[i]\n",
    "\n",
    "for i, (x, y) in enumerate(zip(xs, ys)):\n",
    "    ax.annotate(f'{i}', (x, y), textcoords=\"offset points\", xytext=(0,10), ha='center')\n",
    "\n",
    "\n",
    "print(\"time constraint \", T)\n",
    "print(\"total_time \",total_time)\n",
    "print(\"total_profit \", total_profit)\n",
    "ax.set_title('Optimal TSP tour');"
   ]
  }
 ],
 "metadata": {
  "kernelspec": {
   "display_name": "Python 3 (ipykernel)",
   "language": "python",
   "name": "python3"
  },
  "language_info": {
   "codemirror_mode": {
    "name": "ipython",
    "version": 3
   },
   "file_extension": ".py",
   "mimetype": "text/x-python",
   "name": "python",
   "nbconvert_exporter": "python",
   "pygments_lexer": "ipython3",
   "version": "3.10.12"
  },
  "toc": {
   "base_numbering": 1,
   "nav_menu": {},
   "number_sections": true,
   "sideBar": true,
   "skip_h1_title": false,
   "title_cell": "Table of Contents",
   "title_sidebar": "Contents",
   "toc_cell": false,
   "toc_position": {},
   "toc_section_display": true,
   "toc_window_display": false
  }
 },
 "nbformat": 4,
 "nbformat_minor": 2
}
